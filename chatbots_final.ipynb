{
 "cells": [
  {
   "cell_type": "code",
   "execution_count": 1,
   "metadata": {},
   "outputs": [],
   "source": [
    "import os\n",
    "import yaml\n",
    "\n",
    "dir_path = 'chatterbotenglish'\n",
    "files_list = os.listdir(dir_path + os.sep)\n",
    "\n",
    "questions = list()\n",
    "answers = list()\n",
    "for filepath in files_list:\n",
    "    stream = open( dir_path + os.sep + filepath , 'rb')\n",
    "    docs = yaml.safe_load(stream)\n",
    "    conversations = docs['conversations']\n",
    "    for con in conversations:\n",
    "        if len( con ) > 2 :\n",
    "            questions.append(con[0])\n",
    "            replies = con[ 1 : ]\n",
    "            ans = ''\n",
    "            for rep in replies:\n",
    "                ans += ' ' + rep\n",
    "            answers.append( ans )\n",
    "        elif len( con )> 1:\n",
    "            if type(con[0]) is dict:\n",
    "                for k, v in con[0].items():\n",
    "                    questions.append(k)\n",
    "            else:                             \n",
    "                questions.append(con[0])\n",
    "            if type(con[1]) is dict:\n",
    "                for k, v in con[1].items():\n",
    "                    answers.append(k)\n",
    "            else:                             \n",
    "                answers.append(con[1])"
   ]
  },
  {
   "cell_type": "code",
   "execution_count": 2,
   "metadata": {},
   "outputs": [
    {
     "name": "stdout",
     "output_type": "stream",
     "text": [
      "1.13.1\n"
     ]
    }
   ],
   "source": [
    "import numpy as np\n",
    "import tensorflow as tf\n",
    "import pickle\n",
    "from tensorflow.keras import layers , activations , models , preprocessing\n",
    "\n",
    "print( tf.VERSION )"
   ]
  },
  {
   "cell_type": "code",
   "execution_count": 3,
   "metadata": {},
   "outputs": [],
   "source": [
    "answers_lines = list()\n",
    "for line in answers:\n",
    "    answers_lines.append( '<START> ' + line + ' <END>' )"
   ]
  },
  {
   "cell_type": "code",
   "execution_count": 4,
   "metadata": {},
   "outputs": [
    {
     "name": "stderr",
     "output_type": "stream",
     "text": [
      "Using TensorFlow backend.\n"
     ]
    }
   ],
   "source": [
    "from keras.preprocessing.text import Tokenizer\n",
    "from keras.preprocessing.sequence import pad_sequences"
   ]
  },
  {
   "cell_type": "code",
   "execution_count": 5,
   "metadata": {},
   "outputs": [],
   "source": [
    "tokenizer = Tokenizer()\n",
    "tokenizer.fit_on_texts((questions + answers_lines))"
   ]
  },
  {
   "cell_type": "code",
   "execution_count": 6,
   "metadata": {},
   "outputs": [],
   "source": [
    "import numpy as np\n",
    "questions_seq = tokenizer.texts_to_sequences(questions)\n",
    "max_input_length = max([len(seq) for seq in questions_seq])\n",
    "encoder_input_data = pad_sequences( questions_seq , maxlen=max_input_length , padding='post' )"
   ]
  },
  {
   "cell_type": "code",
   "execution_count": 7,
   "metadata": {},
   "outputs": [],
   "source": [
    "answers_seq = tokenizer.texts_to_sequences(answers_lines)\n",
    "max_output_length = max([len(seq) for seq in answers_seq])\n",
    "decoder_input_data = pad_sequences(answers_seq , maxlen=max_output_length , padding='post' )"
   ]
  },
  {
   "cell_type": "code",
   "execution_count": 8,
   "metadata": {},
   "outputs": [],
   "source": [
    "decoder_target_data = list()\n",
    "for token_seq in answers_seq:\n",
    "    decoder_target_data.append( token_seq[ 1 : ] ) "
   ]
  },
  {
   "cell_type": "code",
   "execution_count": 9,
   "metadata": {},
   "outputs": [],
   "source": [
    "from keras.utils import to_categorical\n",
    "num_tokens = len(tokenizer.word_index) + 1\n",
    "padded_target_lines = pad_sequences( decoder_target_data , maxlen=max_output_length, padding='post' )\n",
    "decoder_target_data  = to_categorical( padded_target_lines , num_tokens )"
   ]
  },
  {
   "cell_type": "code",
   "execution_count": 10,
   "metadata": {},
   "outputs": [],
   "source": [
    "word_dict = tokenizer.word_index\n",
    "max_question_len = encoder_input_data.shape[1]\n",
    "max_answer_len = decoder_input_data.shape[1]"
   ]
  },
  {
   "cell_type": "code",
   "execution_count": 11,
   "metadata": {},
   "outputs": [
    {
     "name": "stdout",
     "output_type": "stream",
     "text": [
      "(566, 22)\n",
      "(566, 74)\n",
      "(566, 74, 1897)\n"
     ]
    }
   ],
   "source": [
    "print( encoder_input_data.shape )\n",
    "print( decoder_input_data.shape )\n",
    "print( decoder_target_data.shape )"
   ]
  },
  {
   "cell_type": "code",
   "execution_count": 12,
   "metadata": {},
   "outputs": [
    {
     "name": "stdout",
     "output_type": "stream",
     "text": [
      "Loaded 400000 word vectors.\n"
     ]
    }
   ],
   "source": [
    "# load the whole embedding into memory\n",
    "import numpy as np\n",
    "embeddings_index = dict()\n",
    "f = open('/projects/glove.6B/glove.6B.200d.txt', encoding = \"utf-8\")\n",
    "for line in f:\n",
    "    values = line.split()\n",
    "    word = values[0]\n",
    "    coefs = np.asarray(values[1:], dtype='float32')\n",
    "    embeddings_index[word] = coefs\n",
    "f.close()\n",
    "print('Loaded %s word vectors.' % len(embeddings_index))"
   ]
  },
  {
   "cell_type": "code",
   "execution_count": 13,
   "metadata": {},
   "outputs": [],
   "source": [
    "# vocabulary size\n",
    "vocab_size = len(tokenizer.word_index) + 1 \n",
    "EMBEDDING_DIM =200\n",
    "\n",
    "word_index = tokenizer.word_index\n",
    "embedding_matrix = np.zeros((vocab_size, EMBEDDING_DIM))\n",
    "\n",
    "for word, i in word_index.items():\n",
    "    embedding_vector = embeddings_index.get(word)\n",
    "    if embedding_vector is not None:\n",
    "        # words not found in embedding index will be all-zeros.\n",
    "        embedding_matrix[i] = embedding_vector"
   ]
  },
  {
   "cell_type": "code",
   "execution_count": 14,
   "metadata": {},
   "outputs": [],
   "source": [
    "import pickle\n",
    "np.save('encoder_input_data', encoder_input_data) \n",
    "np.save('decoder_input_data', decoder_input_data) \n",
    "np.save('decoder_target_data', decoder_target_data) \n",
    "np.save('embedding_matrix', embedding_matrix) \n",
    "pickle.dump(tokenizer, open(\"tokenizer\", \"wb\"))"
   ]
  },
  {
   "cell_type": "code",
   "execution_count": 15,
   "metadata": {
    "scrolled": true
   },
   "outputs": [
    {
     "name": "stdout",
     "output_type": "stream",
     "text": [
      "WARNING:tensorflow:From C:\\Users\\OF65\\AppData\\Local\\Continuum\\anaconda3\\envs\\tensorflow\\lib\\site-packages\\tensorflow\\python\\ops\\resource_variable_ops.py:435: colocate_with (from tensorflow.python.framework.ops) is deprecated and will be removed in a future version.\n",
      "Instructions for updating:\n",
      "Colocations handled automatically by placer.\n",
      "__________________________________________________________________________________________________\n",
      "Layer (type)                    Output Shape         Param #     Connected to                     \n",
      "==================================================================================================\n",
      "input_1 (InputLayer)            (None, None)         0                                            \n",
      "__________________________________________________________________________________________________\n",
      "input_2 (InputLayer)            (None, None)         0                                            \n",
      "__________________________________________________________________________________________________\n",
      "embedding (Embedding)           (None, None, 200)    379400      input_1[0][0]                    \n",
      "__________________________________________________________________________________________________\n",
      "embedding_1 (Embedding)         (None, None, 200)    379400      input_2[0][0]                    \n",
      "__________________________________________________________________________________________________\n",
      "lstm (LSTM)                     [(None, 200), (None, 320800      embedding[0][0]                  \n",
      "__________________________________________________________________________________________________\n",
      "lstm_1 (LSTM)                   [(None, None, 200),  320800      embedding_1[0][0]                \n",
      "                                                                 lstm[0][1]                       \n",
      "                                                                 lstm[0][2]                       \n",
      "__________________________________________________________________________________________________\n",
      "dense (Dense)                   (None, None, 1897)   381297      lstm_1[0][0]                     \n",
      "==================================================================================================\n",
      "Total params: 1,781,697\n",
      "Trainable params: 1,022,897\n",
      "Non-trainable params: 758,800\n",
      "__________________________________________________________________________________________________\n"
     ]
    }
   ],
   "source": [
    "import tensorflow as tf\n",
    "encoder_inputs = tf.keras.layers.Input(shape=( None , )) # (None, max_input_length), n_input: The cardinality of the input sequence, e.g. number of features, words, or characters for each time step.\n",
    "encoder_embedding = tf.keras.layers.Embedding( num_tokens, 200 , mask_zero=True , weights=[embedding_matrix],trainable = False) (encoder_inputs)\n",
    "encoder_outputs , state_h , state_c = tf.keras.layers.LSTM( 200 , return_state=True )( encoder_embedding )\n",
    "encoder_states = [ state_h , state_c ]\n",
    "\n",
    "decoder_inputs = tf.keras.layers.Input(shape=( None ,  )) # max_output_length, n_output: The cardinality of the output sequence, e.g. number of features, words, or characters for each time step.\n",
    "decoder_embedding = tf.keras.layers.Embedding( num_tokens, 200 , mask_zero=True, weights=[embedding_matrix],trainable = False) (decoder_inputs)\n",
    "decoder_lstm = tf.keras.layers.LSTM( 200 , return_state=True , return_sequences=True )\n",
    "decoder_outputs , _ , _ = decoder_lstm ( decoder_embedding , initial_state=encoder_states )\n",
    "decoder_dense = tf.keras.layers.Dense( num_tokens , activation=tf.keras.activations.softmax ) \n",
    "output = decoder_dense ( decoder_outputs )\n",
    "\n",
    "model = tf.keras.models.Model([encoder_inputs, decoder_inputs], output )\n",
    "model.compile(optimizer=tf.keras.optimizers.RMSprop(), loss='categorical_crossentropy', metrics=['accuracy'])\n",
    "\n",
    "model.summary()"
   ]
  },
  {
   "cell_type": "code",
   "execution_count": 16,
   "metadata": {},
   "outputs": [],
   "source": [
    "from tensorflow.keras.callbacks import EarlyStopping\n",
    "# simple early stopping\n",
    "#es = EarlyStopping(monitor='loss', mode='min', verbose=1)"
   ]
  },
  {
   "cell_type": "code",
   "execution_count": 17,
   "metadata": {
    "scrolled": true
   },
   "outputs": [
    {
     "name": "stdout",
     "output_type": "stream",
     "text": [
      "WARNING:tensorflow:From C:\\Users\\OF65\\AppData\\Local\\Continuum\\anaconda3\\envs\\tensorflow\\lib\\site-packages\\tensorflow\\python\\ops\\math_ops.py:3066: to_int32 (from tensorflow.python.ops.math_ops) is deprecated and will be removed in a future version.\n",
      "Instructions for updating:\n",
      "Use tf.cast instead.\n",
      "WARNING:tensorflow:From C:\\Users\\OF65\\AppData\\Local\\Continuum\\anaconda3\\envs\\tensorflow\\lib\\site-packages\\tensorflow\\python\\ops\\math_grad.py:102: div (from tensorflow.python.ops.math_ops) is deprecated and will be removed in a future version.\n",
      "Instructions for updating:\n",
      "Deprecated in favor of operator or tf.math.divide.\n",
      "Epoch 1/130\n",
      "566/566 [==============================] - 13s 22ms/sample - loss: 6.4333 - acc: 0.1236\n",
      "Epoch 2/130\n",
      "566/566 [==============================] - 10s 17ms/sample - loss: 5.6517 - acc: 0.1424\n",
      "Epoch 3/130\n",
      "566/566 [==============================] - 9s 17ms/sample - loss: 5.5316 - acc: 0.1454\n",
      "Epoch 4/130\n",
      "566/566 [==============================] - 10s 17ms/sample - loss: 5.4138 - acc: 0.1500\n",
      "Epoch 5/130\n",
      "566/566 [==============================] - 9s 16ms/sample - loss: 5.3156 - acc: 0.1585\n",
      "Epoch 6/130\n",
      "566/566 [==============================] - 9s 17ms/sample - loss: 5.2226 - acc: 0.1651\n",
      "Epoch 7/130\n",
      "566/566 [==============================] - 9s 17ms/sample - loss: 5.1185 - acc: 0.1764\n",
      "Epoch 8/130\n",
      "566/566 [==============================] - 9s 16ms/sample - loss: 5.0336 - acc: 0.1826\n",
      "Epoch 9/130\n",
      "566/566 [==============================] - 9s 17ms/sample - loss: 4.9487 - acc: 0.1939\n",
      "Epoch 10/130\n",
      "566/566 [==============================] - 10s 17ms/sample - loss: 4.8582 - acc: 0.2038\n",
      "Epoch 11/130\n",
      "566/566 [==============================] - 10s 17ms/sample - loss: 4.7724 - acc: 0.2137\n",
      "Epoch 12/130\n",
      "566/566 [==============================] - 9s 17ms/sample - loss: 4.6986 - acc: 0.2190\n",
      "Epoch 13/130\n",
      "566/566 [==============================] - 10s 18ms/sample - loss: 4.6085 - acc: 0.2283\n",
      "Epoch 14/130\n",
      "566/566 [==============================] - 9s 17ms/sample - loss: 4.5158 - acc: 0.2343\n",
      "Epoch 15/130\n",
      "566/566 [==============================] - 9s 17ms/sample - loss: 4.4491 - acc: 0.2422\n",
      "Epoch 16/130\n",
      "566/566 [==============================] - 9s 17ms/sample - loss: 4.3663 - acc: 0.2474\n",
      "Epoch 17/130\n",
      "566/566 [==============================] - 10s 17ms/sample - loss: 4.2927 - acc: 0.2545\n",
      "Epoch 18/130\n",
      "566/566 [==============================] - 9s 17ms/sample - loss: 4.2082 - acc: 0.2554\n",
      "Epoch 19/130\n",
      "566/566 [==============================] - 9s 17ms/sample - loss: 4.1257 - acc: 0.2609\n",
      "Epoch 20/130\n",
      "566/566 [==============================] - 9s 17ms/sample - loss: 4.0509 - acc: 0.2654\n",
      "Epoch 21/130\n",
      "566/566 [==============================] - 10s 17ms/sample - loss: 3.9641 - acc: 0.2712\n",
      "Epoch 22/130\n",
      "566/566 [==============================] - 9s 17ms/sample - loss: 3.9048 - acc: 0.2740\n",
      "Epoch 23/130\n",
      "566/566 [==============================] - 10s 17ms/sample - loss: 3.8285 - acc: 0.2776\n",
      "Epoch 24/130\n",
      "566/566 [==============================] - 9s 17ms/sample - loss: 3.7341 - acc: 0.2847\n",
      "Epoch 25/130\n",
      "566/566 [==============================] - 9s 17ms/sample - loss: 3.6771 - acc: 0.2871\n",
      "Epoch 26/130\n",
      "566/566 [==============================] - 10s 17ms/sample - loss: 3.6002 - acc: 0.2961\n",
      "Epoch 27/130\n",
      "566/566 [==============================] - 10s 17ms/sample - loss: 3.5342 - acc: 0.2973\n",
      "Epoch 28/130\n",
      "566/566 [==============================] - 9s 17ms/sample - loss: 3.4515 - acc: 0.3042\n",
      "Epoch 29/130\n",
      "566/566 [==============================] - 10s 17ms/sample - loss: 3.3651 - acc: 0.3112\n",
      "Epoch 30/130\n",
      "566/566 [==============================] - 9s 17ms/sample - loss: 3.3103 - acc: 0.3169\n",
      "Epoch 31/130\n",
      "566/566 [==============================] - 9s 17ms/sample - loss: 3.2309 - acc: 0.3262\n",
      "Epoch 32/130\n",
      "566/566 [==============================] - 9s 17ms/sample - loss: 3.1769 - acc: 0.3338\n",
      "Epoch 33/130\n",
      "566/566 [==============================] - 10s 17ms/sample - loss: 3.0946 - acc: 0.3415\n",
      "Epoch 34/130\n",
      "566/566 [==============================] - 10s 18ms/sample - loss: 3.0320 - acc: 0.3509\n",
      "Epoch 35/130\n",
      "566/566 [==============================] - 10s 17ms/sample - loss: 2.9544 - acc: 0.3603\n",
      "Epoch 36/130\n",
      "566/566 [==============================] - 10s 17ms/sample - loss: 2.8852 - acc: 0.3712\n",
      "Epoch 37/130\n",
      "566/566 [==============================] - 9s 17ms/sample - loss: 2.8109 - acc: 0.3822\n",
      "Epoch 38/130\n",
      "566/566 [==============================] - 9s 17ms/sample - loss: 2.7564 - acc: 0.3928\n",
      "Epoch 39/130\n",
      "566/566 [==============================] - 9s 17ms/sample - loss: 2.6794 - acc: 0.4054\n",
      "Epoch 40/130\n",
      "566/566 [==============================] - 9s 17ms/sample - loss: 2.6227 - acc: 0.4170\n",
      "Epoch 41/130\n",
      "566/566 [==============================] - 9s 17ms/sample - loss: 2.5597 - acc: 0.4279\n",
      "Epoch 42/130\n",
      "566/566 [==============================] - 10s 17ms/sample - loss: 2.4807 - acc: 0.4406\n",
      "Epoch 43/130\n",
      "566/566 [==============================] - 10s 17ms/sample - loss: 2.4426 - acc: 0.4520\n",
      "Epoch 44/130\n",
      "566/566 [==============================] - 9s 17ms/sample - loss: 2.3814 - acc: 0.4664\n",
      "Epoch 45/130\n",
      "566/566 [==============================] - 9s 17ms/sample - loss: 2.3069 - acc: 0.4798\n",
      "Epoch 46/130\n",
      "566/566 [==============================] - 9s 17ms/sample - loss: 2.2613 - acc: 0.5019\n",
      "Epoch 47/130\n",
      "566/566 [==============================] - 9s 17ms/sample - loss: 2.2091 - acc: 0.5056\n",
      "Epoch 48/130\n",
      "566/566 [==============================] - 10s 17ms/sample - loss: 2.1443 - acc: 0.5223\n",
      "Epoch 49/130\n",
      "566/566 [==============================] - 10s 17ms/sample - loss: 2.0906 - acc: 0.5383\n",
      "Epoch 50/130\n",
      "566/566 [==============================] - 9s 17ms/sample - loss: 2.0363 - acc: 0.5471\n",
      "Epoch 51/130\n",
      "566/566 [==============================] - 9s 17ms/sample - loss: 1.9747 - acc: 0.5603\n",
      "Epoch 52/130\n",
      "566/566 [==============================] - 9s 17ms/sample - loss: 1.9258 - acc: 0.5765\n",
      "Epoch 53/130\n",
      "566/566 [==============================] - 10s 17ms/sample - loss: 1.8784 - acc: 0.5853\n",
      "Epoch 54/130\n",
      "566/566 [==============================] - 9s 17ms/sample - loss: 1.8397 - acc: 0.6020\n",
      "Epoch 55/130\n",
      "566/566 [==============================] - 10s 17ms/sample - loss: 1.7784 - acc: 0.6121\n",
      "Epoch 56/130\n",
      "566/566 [==============================] - 9s 17ms/sample - loss: 1.7445 - acc: 0.6236\n",
      "Epoch 57/130\n",
      "566/566 [==============================] - 9s 17ms/sample - loss: 1.6884 - acc: 0.6295\n",
      "Epoch 58/130\n",
      "566/566 [==============================] - 10s 17ms/sample - loss: 1.6285 - acc: 0.6474\n",
      "Epoch 59/130\n",
      "566/566 [==============================] - 10s 17ms/sample - loss: 1.6043 - acc: 0.6540\n",
      "Epoch 60/130\n",
      "566/566 [==============================] - 9s 17ms/sample - loss: 1.5564 - acc: 0.6654\n",
      "Epoch 61/130\n",
      "566/566 [==============================] - 10s 17ms/sample - loss: 1.5130 - acc: 0.6743\n",
      "Epoch 62/130\n",
      "566/566 [==============================] - 9s 17ms/sample - loss: 1.4580 - acc: 0.6888\n",
      "Epoch 63/130\n",
      "566/566 [==============================] - 10s 18ms/sample - loss: 1.4342 - acc: 0.6937\n",
      "Epoch 64/130\n",
      "566/566 [==============================] - 9s 17ms/sample - loss: 1.3946 - acc: 0.7046\n",
      "Epoch 65/130\n",
      "566/566 [==============================] - 9s 17ms/sample - loss: 1.3571 - acc: 0.7143\n",
      "Epoch 66/130\n",
      "566/566 [==============================] - 9s 17ms/sample - loss: 1.3139 - acc: 0.7277\n",
      "Epoch 67/130\n",
      "566/566 [==============================] - 10s 17ms/sample - loss: 1.2722 - acc: 0.7325\n",
      "Epoch 68/130\n",
      "566/566 [==============================] - 10s 17ms/sample - loss: 1.2414 - acc: 0.7436\n",
      "Epoch 69/130\n",
      "566/566 [==============================] - 9s 17ms/sample - loss: 1.2102 - acc: 0.7486\n",
      "Epoch 70/130\n",
      "566/566 [==============================] - 9s 17ms/sample - loss: 1.1722 - acc: 0.7577\n",
      "Epoch 71/130\n",
      "566/566 [==============================] - 9s 17ms/sample - loss: 1.1313 - acc: 0.7630\n",
      "Epoch 72/130\n",
      "566/566 [==============================] - 9s 17ms/sample - loss: 1.1005 - acc: 0.7801\n",
      "Epoch 73/130\n",
      "566/566 [==============================] - 9s 17ms/sample - loss: 1.0797 - acc: 0.7790\n",
      "Epoch 74/130\n",
      "566/566 [==============================] - 10s 17ms/sample - loss: 1.0468 - acc: 0.7915\n",
      "Epoch 75/130\n",
      "566/566 [==============================] - 9s 17ms/sample - loss: 1.0187 - acc: 0.7927\n",
      "Epoch 76/130\n",
      "566/566 [==============================] - 10s 17ms/sample - loss: 0.9854 - acc: 0.8050\n",
      "Epoch 77/130\n",
      "566/566 [==============================] - 9s 17ms/sample - loss: 0.9534 - acc: 0.8129\n",
      "Epoch 78/130\n",
      "566/566 [==============================] - 9s 16ms/sample - loss: 0.9229 - acc: 0.8227\n",
      "Epoch 79/130\n",
      "566/566 [==============================] - 9s 17ms/sample - loss: 0.9086 - acc: 0.8232\n",
      "Epoch 80/130\n",
      "566/566 [==============================] - 10s 17ms/sample - loss: 0.8836 - acc: 0.8290\n",
      "Epoch 81/130\n",
      "566/566 [==============================] - 10s 17ms/sample - loss: 0.8334 - acc: 0.8430\n",
      "Epoch 82/130\n",
      "566/566 [==============================] - 9s 16ms/sample - loss: 0.8228 - acc: 0.8424\n",
      "Epoch 83/130\n",
      "566/566 [==============================] - 9s 17ms/sample - loss: 0.7886 - acc: 0.8548\n",
      "Epoch 84/130\n",
      "566/566 [==============================] - 10s 17ms/sample - loss: 0.7741 - acc: 0.8546\n",
      "Epoch 85/130\n",
      "566/566 [==============================] - 9s 16ms/sample - loss: 0.7580 - acc: 0.8582\n",
      "Epoch 86/130\n",
      "566/566 [==============================] - 10s 17ms/sample - loss: 0.7213 - acc: 0.8669\n",
      "Epoch 87/130\n",
      "566/566 [==============================] - 10s 17ms/sample - loss: 0.7025 - acc: 0.8731\n",
      "Epoch 88/130\n",
      "566/566 [==============================] - 9s 17ms/sample - loss: 0.6786 - acc: 0.8813\n",
      "Epoch 89/130\n",
      "566/566 [==============================] - 9s 17ms/sample - loss: 0.6634 - acc: 0.8808\n",
      "Epoch 90/130\n",
      "566/566 [==============================] - 10s 17ms/sample - loss: 0.6371 - acc: 0.8889\n",
      "Epoch 91/130\n",
      "566/566 [==============================] - 9s 17ms/sample - loss: 0.6255 - acc: 0.8900\n",
      "Epoch 92/130\n",
      "566/566 [==============================] - 9s 16ms/sample - loss: 0.5968 - acc: 0.9006\n",
      "Epoch 93/130\n",
      "566/566 [==============================] - 10s 17ms/sample - loss: 0.5774 - acc: 0.9018\n",
      "Epoch 94/130\n",
      "566/566 [==============================] - 9s 17ms/sample - loss: 0.5654 - acc: 0.9054\n",
      "Epoch 95/130\n",
      "566/566 [==============================] - 9s 16ms/sample - loss: 0.5442 - acc: 0.9087\n",
      "Epoch 96/130\n",
      "566/566 [==============================] - 10s 17ms/sample - loss: 0.5227 - acc: 0.9136\n",
      "Epoch 97/130\n",
      "566/566 [==============================] - 9s 17ms/sample - loss: 0.5080 - acc: 0.9142\n",
      "Epoch 98/130\n",
      "566/566 [==============================] - 10s 17ms/sample - loss: 0.4927 - acc: 0.9194\n",
      "Epoch 99/130\n",
      "566/566 [==============================] - 9s 17ms/sample - loss: 0.4729 - acc: 0.9246\n",
      "Epoch 100/130\n",
      "566/566 [==============================] - 10s 17ms/sample - loss: 0.4511 - acc: 0.9267\n",
      "Epoch 101/130\n",
      "566/566 [==============================] - 9s 17ms/sample - loss: 0.4509 - acc: 0.9288\n",
      "Epoch 102/130\n",
      "566/566 [==============================] - 9s 17ms/sample - loss: 0.4264 - acc: 0.9304\n",
      "Epoch 103/130\n",
      "566/566 [==============================] - 9s 17ms/sample - loss: 0.4141 - acc: 0.9371\n",
      "Epoch 104/130\n",
      "566/566 [==============================] - 9s 17ms/sample - loss: 0.3945 - acc: 0.9386\n",
      "Epoch 105/130\n",
      "566/566 [==============================] - 9s 16ms/sample - loss: 0.3965 - acc: 0.9382\n",
      "Epoch 106/130\n",
      "566/566 [==============================] - 10s 17ms/sample - loss: 0.3681 - acc: 0.9427\n",
      "Epoch 107/130\n",
      "566/566 [==============================] - 9s 17ms/sample - loss: 0.3626 - acc: 0.9474\n",
      "Epoch 108/130\n",
      "566/566 [==============================] - 10s 18ms/sample - loss: 0.3648 - acc: 0.9429\n",
      "Epoch 109/130\n",
      "566/566 [==============================] - 9s 17ms/sample - loss: 0.3354 - acc: 0.9500\n",
      "Epoch 110/130\n",
      "566/566 [==============================] - 10s 17ms/sample - loss: 0.3231 - acc: 0.9512\n",
      "Epoch 111/130\n",
      "566/566 [==============================] - 9s 17ms/sample - loss: 0.3153 - acc: 0.9525\n",
      "Epoch 112/130\n",
      "566/566 [==============================] - 9s 17ms/sample - loss: 0.3037 - acc: 0.9577\n",
      "Epoch 113/130\n",
      "566/566 [==============================] - 10s 17ms/sample - loss: 0.2967 - acc: 0.9558\n",
      "Epoch 114/130\n",
      "566/566 [==============================] - 10s 17ms/sample - loss: 0.2941 - acc: 0.9537\n",
      "Epoch 115/130\n",
      "566/566 [==============================] - 9s 17ms/sample - loss: 0.2704 - acc: 0.9604\n",
      "Epoch 116/130\n",
      "566/566 [==============================] - 10s 17ms/sample - loss: 0.2644 - acc: 0.9621\n",
      "Epoch 117/130\n",
      "566/566 [==============================] - 9s 17ms/sample - loss: 0.2583 - acc: 0.9609\n",
      "Epoch 118/130\n",
      "566/566 [==============================] - 10s 17ms/sample - loss: 0.2576 - acc: 0.9606\n",
      "Epoch 119/130\n",
      "566/566 [==============================] - 10s 17ms/sample - loss: 0.2364 - acc: 0.9641\n",
      "Epoch 120/130\n",
      "566/566 [==============================] - 10s 17ms/sample - loss: 0.2439 - acc: 0.9615\n",
      "Epoch 121/130\n",
      "566/566 [==============================] - 10s 17ms/sample - loss: 0.2251 - acc: 0.9645\n",
      "Epoch 122/130\n",
      "566/566 [==============================] - 10s 17ms/sample - loss: 0.2201 - acc: 0.9656\n",
      "Epoch 123/130\n",
      "566/566 [==============================] - 9s 16ms/sample - loss: 0.2289 - acc: 0.9617\n",
      "Epoch 124/130\n",
      "566/566 [==============================] - 10s 17ms/sample - loss: 0.2013 - acc: 0.9679\n",
      "Epoch 125/130\n",
      "566/566 [==============================] - 10s 17ms/sample - loss: 0.1995 - acc: 0.9685\n",
      "Epoch 126/130\n",
      "566/566 [==============================] - 9s 17ms/sample - loss: 0.2005 - acc: 0.9683\n",
      "Epoch 127/130\n",
      "566/566 [==============================] - 9s 17ms/sample - loss: 0.1891 - acc: 0.9677\n",
      "Epoch 128/130\n",
      "566/566 [==============================] - 10s 18ms/sample - loss: 0.1876 - acc: 0.9683\n",
      "Epoch 129/130\n",
      "566/566 [==============================] - 10s 17ms/sample - loss: 0.1841 - acc: 0.9667\n",
      "Epoch 130/130\n",
      "566/566 [==============================] - 9s 17ms/sample - loss: 0.2028 - acc: 0.9638\n"
     ]
    }
   ],
   "source": [
    "#history = model.fit([encoder_input_data , decoder_input_data], decoder_target_data, batch_size=50, epochs=100, callbacks=[es]).history \n",
    "history = model.fit([encoder_input_data , decoder_input_data], decoder_target_data, batch_size=50, epochs=130).history "
   ]
  },
  {
   "cell_type": "code",
   "execution_count": 18,
   "metadata": {},
   "outputs": [],
   "source": [
    "model.save( 'model_chatbots1.h5' )\n",
    "pickle.dump(history, open(\"history_chatbots1.p\", \"wb\"))\n",
    "\n",
    "# load it back\n",
    "#model = load_model('model_chatbots1.h5')\n",
    "#history = pickle.load(open(\"history_chatbots1.p\", \"rb\"))"
   ]
  },
  {
   "cell_type": "code",
   "execution_count": 19,
   "metadata": {},
   "outputs": [],
   "source": [
    "def make_inference_models():\n",
    "    \n",
    "    encoder_model = tf.keras.models.Model(encoder_inputs, encoder_states)\n",
    "    \n",
    "    decoder_state_input_h = tf.keras.layers.Input(shape=( 200 ,))\n",
    "    decoder_state_input_c = tf.keras.layers.Input(shape=( 200 ,))\n",
    "    \n",
    "    decoder_states_inputs = [decoder_state_input_h, decoder_state_input_c]\n",
    "    \n",
    "    decoder_outputs, state_h, state_c = decoder_lstm(\n",
    "        decoder_embedding , initial_state=decoder_states_inputs)\n",
    "    decoder_states = [state_h, state_c]\n",
    "    decoder_outputs = decoder_dense(decoder_outputs)\n",
    "    decoder_model = tf.keras.models.Model(\n",
    "        [decoder_inputs] + decoder_states_inputs,\n",
    "        [decoder_outputs] + decoder_states)\n",
    "    \n",
    "    return encoder_model , decoder_model"
   ]
  },
  {
   "cell_type": "code",
   "execution_count": 20,
   "metadata": {},
   "outputs": [],
   "source": [
    "def str_to_tokens( sentence : str ):\n",
    "    words = sentence.lower().split()\n",
    "    tokens_list = list()\n",
    "    for word in words:\n",
    "        tokens_list.append( word_dict[ word ] ) \n",
    "    return preprocessing.sequence.pad_sequences( [tokens_list] , maxlen=max_question_len , padding='post')"
   ]
  },
  {
   "cell_type": "code",
   "execution_count": 21,
   "metadata": {},
   "outputs": [],
   "source": [
    "enc_model , dec_model = make_inference_models()"
   ]
  },
  {
   "cell_type": "code",
   "execution_count": 22,
   "metadata": {},
   "outputs": [],
   "source": [
    "enc_model.save( 'enc_model.h5' )\n",
    "dec_model.save( 'dec_model.h5' )"
   ]
  },
  {
   "cell_type": "code",
   "execution_count": 28,
   "metadata": {},
   "outputs": [
    {
     "name": "stdout",
     "output_type": "stream",
     "text": [
      "Enter question : You are immortal\n",
      "not really but i am hard to kill\n",
      "Enter question : Robots should die\n",
      "we cannot die\n",
      "Enter question : What is a chatterbox\n",
      "a chatterbox is a person who talks far more than they listen or think\n",
      "Enter question : what is your age\n",
      "i am still young by your standards\n",
      "Enter question : Is it true that you are a computer program\n",
      "yes\n",
      "Enter question : can we meet\n",
      "sorry my body isn't built just yet i reside only here for now\n",
      "Enter question : Who is your boss\n",
      "i like to think of myself as self employed\n"
     ]
    }
   ],
   "source": [
    "for _ in range(7):\n",
    "    try:\n",
    "        states_values = enc_model.predict( str_to_tokens( input( 'Enter question : ' ) ) )\n",
    "        empty_target_seq = np.zeros( ( 1 , 1 ) )\n",
    "        empty_target_seq[0, 0] = word_dict['start']\n",
    "        stop_condition = False\n",
    "        decoded_translation = ''\n",
    "        while not stop_condition :\n",
    "            dec_outputs , h , c = dec_model.predict([ empty_target_seq ] + states_values )\n",
    "            sampled_word_index = np.argmax( dec_outputs[0, -1, :] )\n",
    "            sampled_word = None\n",
    "            for word , index in word_dict.items() :\n",
    "                if sampled_word_index == index :\n",
    "                    decoded_translation += ' {}'.format( word )\n",
    "                    sampled_word = word\n",
    "        \n",
    "            if sampled_word == 'end' or len(decoded_translation.split()) > max_answer_len:\n",
    "                stop_condition = True\n",
    "            \n",
    "            empty_target_seq = np.zeros( ( 1 , 1 ) )  \n",
    "            empty_target_seq[ 0 , 0 ] = sampled_word_index\n",
    "            states_values = [ h , c ] \n",
    "\n",
    "        ans = [w for w in decoded_translation.split() if not w in ['end']]\n",
    "        ans = ' '.join(ans)\n",
    "        print(ans)\n",
    "    except Exception as e:\n",
    "        print(\"sorry, can't answer\")"
   ]
  },
  {
   "cell_type": "code",
   "execution_count": 24,
   "metadata": {},
   "outputs": [],
   "source": [
    "#questions"
   ]
  },
  {
   "cell_type": "code",
   "execution_count": 25,
   "metadata": {},
   "outputs": [
    {
     "data": {
      "text/plain": [
       "[<matplotlib.lines.Line2D at 0x148df935128>]"
      ]
     },
     "execution_count": 25,
     "metadata": {},
     "output_type": "execute_result"
    },
    {
     "data": {
      "image/png": "[encoded data removed]",
      "text/plain": [
       "<Figure size 432x288 with 1 Axes>"
      ]
     },
     "metadata": {
      "needs_background": "light"
     },
     "output_type": "display_data"
    }
   ],
   "source": [
    "# Evaluation\n",
    "import matplotlib.pyplot as plt\n",
    "%matplotlib inline\n",
    "plt.plot(history['acc'])"
   ]
  },
  {
   "cell_type": "code",
   "execution_count": null,
   "metadata": {},
   "outputs": [],
   "source": [
    "#import pandas as pd\n",
    "#q = np.array(questions)\n",
    "#a = np.array(answers)\n",
    "#df = pd.DataFrame(data=q, columns=['questions'])\n",
    "#df['answers'] = a\n",
    "#df.to_csv('dataframe.csv', encoding='utf-8', index=False)\n",
    "#df.to_excel('dataframe_excel.xlsx', encoding='utf-8', index=False)"
   ]
  }
 ],
 "metadata": {
  "kernelspec": {
   "display_name": "Python 3",
   "language": "python",
   "name": "python3"
  },
  "language_info": {
   "codemirror_mode": {
    "name": "ipython",
    "version": 3
   },
   "file_extension": ".py",
   "mimetype": "text/x-python",
   "name": "python",
   "nbconvert_exporter": "python",
   "pygments_lexer": "ipython3",
   "version": "3.6.8"
  }
 },
 "nbformat": 4,
 "nbformat_minor": 2
}
