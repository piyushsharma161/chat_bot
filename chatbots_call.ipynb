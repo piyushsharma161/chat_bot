{
 "cells": [
  {
   "cell_type": "code",
   "execution_count": 1,
   "metadata": {},
   "outputs": [],
   "source": [
    "import warnings\n",
    "warnings.filterwarnings(\"ignore\", category=FutureWarning)\n",
    "import numpy as np\n",
    "import tensorflow as tf\n",
    "import pickle\n",
    "from tensorflow.keras import layers , activations , models , preprocessing"
   ]
  },
  {
   "cell_type": "code",
   "execution_count": 2,
   "metadata": {
    "scrolled": false
   },
   "outputs": [],
   "source": [
    "encoder_input_data = np.load('encoder_input_data.npy')\n",
    "decoder_input_data = np.load('decoder_input_data.npy')\n",
    "decoder_target_data = np.load('decoder_target_data.npy')\n",
    "\n",
    "embedding_matrix = np.load('embedding_matrix.npy' ) \n",
    "\n",
    "tokenizer = pickle.load( open('tokenizer' , 'rb'))\n",
    "\n",
    "num_tokens = len( tokenizer.word_index )+1\n",
    "word_dict = tokenizer.word_index\n",
    "\n",
    "max_question_len = encoder_input_data.shape[1]\n",
    "max_answer_len = decoder_input_data.shape[1]\n",
    "\n",
    "#print( 'Max length of question is {}'.format( max_question_len) )\n",
    "#print( 'Max length of answer is {}'.format( max_answer_len) )\n",
    "\n",
    "#print( encoder_input_data.shape )\n",
    "#print( decoder_input_data.shape )\n",
    "#print( decoder_target_data.shape )"
   ]
  },
  {
   "cell_type": "code",
   "execution_count": 3,
   "metadata": {
    "scrolled": true
   },
   "outputs": [
    {
     "name": "stdout",
     "output_type": "stream",
     "text": [
      "WARNING:tensorflow:From C:\\Users\\OF65\\AppData\\Local\\Continuum\\anaconda3\\envs\\tensorflow\\lib\\site-packages\\tensorflow\\python\\ops\\resource_variable_ops.py:435: colocate_with (from tensorflow.python.framework.ops) is deprecated and will be removed in a future version.\n",
      "Instructions for updating:\n",
      "Colocations handled automatically by placer.\n",
      "WARNING:tensorflow:No training configuration found in save file: the model was *not* compiled. Compile it manually.\n",
      "WARNING:tensorflow:No training configuration found in save file: the model was *not* compiled. Compile it manually.\n"
     ]
    }
   ],
   "source": [
    "#model = tf.keras.models.load_model('model_chatbots1.h5')\n",
    "\n",
    "enc_model = tf.keras.models.load_model( 'enc_model.h5' )\n",
    "\n",
    "\n",
    "dec_model = tf.keras.models.load_model( 'dec_model.h5' )\n"
   ]
  },
  {
   "cell_type": "code",
   "execution_count": 4,
   "metadata": {},
   "outputs": [],
   "source": [
    "def str_to_tokens( sentence : str ):\n",
    "    words = sentence.lower().split()\n",
    "    tokens_list = list()\n",
    "    for word in words:\n",
    "        tokens_list.append( word_dict[ word ] ) \n",
    "    return preprocessing.sequence.pad_sequences( [tokens_list] , maxlen=max_question_len , padding='post')"
   ]
  },
  {
   "cell_type": "code",
   "execution_count": 69,
   "metadata": {
    "scrolled": true
   },
   "outputs": [
    {
     "name": "stdout",
     "output_type": "stream",
     "text": [
      "Enter question : what is solaris\n",
      "solaris is an edition of unix from sun\n",
      "Enter question : you are not a man\n",
      "that's for sure i don't know what a real man is\n",
      "Enter question : are you not a man\n",
      "i am not really into football\n",
      "Enter question : DO YOU PLAY SOCCER\n",
      "i don't know how to play\n",
      "Enter question : God Save the Queen is the national anthem of what country?\n",
      "sorry, can't answer\n",
      "Enter question : God Save the Queen is the national anthem of what country\n",
      "the united kingdom of great britain\n"
     ]
    }
   ],
   "source": [
    "for _ in range(6):\n",
    "    try:\n",
    "        states_values = enc_model.predict( str_to_tokens( input( 'Enter question : ' ) ) ) #(1,200)\n",
    "        # array([[ 0.43804294, -0.37364703,  0.15553352,  0.30735624,  0.9615902 ,...]]\n",
    "        empty_target_seq = np.zeros( ( 1 , 1 ) )\n",
    "        empty_target_seq[0, 0] = word_dict['start']    # array([[1.]])\n",
    "        stop_condition = False\n",
    "        decoded_translation = ''\n",
    "        while not stop_condition :\n",
    "            dec_outputs , h , c = dec_model.predict([ empty_target_seq ] + states_values )\n",
    "            sampled_word_index = np.argmax( dec_outputs[0, -1, :] )\n",
    "            sampled_word = None\n",
    "            for word , index in word_dict.items() :\n",
    "                if sampled_word_index == index :\n",
    "                    decoded_translation += ' {}'.format( word )\n",
    "                    sampled_word = word\n",
    "        \n",
    "            if sampled_word == 'end' or len(decoded_translation.split()) > max_answer_len:\n",
    "                stop_condition = True\n",
    "            \n",
    "            empty_target_seq = np.zeros( ( 1 , 1 ) )  \n",
    "            empty_target_seq[ 0 , 0 ] = sampled_word_index\n",
    "            states_values = [ h , c ] \n",
    "\n",
    "        ans = [w for w in decoded_translation.split() if not w in ['end']]\n",
    "        ans = ' '.join(ans)\n",
    "        print(ans)\n",
    "    except Exception as e:\n",
    "        print(\"sorry, can't answer\")"
   ]
  },
  {
   "cell_type": "code",
   "execution_count": null,
   "metadata": {},
   "outputs": [],
   "source": []
  }
 ],
 "metadata": {
  "kernelspec": {
   "display_name": "Python 3",
   "language": "python",
   "name": "python3"
  },
  "language_info": {
   "codemirror_mode": {
    "name": "ipython",
    "version": 3
   },
   "file_extension": ".py",
   "mimetype": "text/x-python",
   "name": "python",
   "nbconvert_exporter": "python",
   "pygments_lexer": "ipython3",
   "version": "3.6.8"
  }
 },
 "nbformat": 4,
 "nbformat_minor": 2
}
